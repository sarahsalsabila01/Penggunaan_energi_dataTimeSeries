{
  "cells": [
    {
      "cell_type": "markdown",
      "metadata": {
        "id": "adFNlGrfD5gx"
      },
      "source": [
        "<h1><center>Profil Dicoding</center></h1><hr>\n",
        "<p> Nama  : Sarah Salsabila </p>\n",
        "<p> Email : m314v4331@dicoding.org</p>\n",
        "<p> Alamat: Karawang , Jawabarat</p>\n",
        "\n"
      ]
    },
    {
      "cell_type": "code",
      "execution_count": 1,
      "metadata": {
        "colab": {
          "base_uri": "https://localhost:8080/"
        },
        "id": "Ivtf1Fldpu91",
        "outputId": "edf563eb-8eb3-427f-da5a-a77702feb193"
      },
      "outputs": [
        {
          "name": "stdout",
          "output_type": "stream",
          "text": [
            "Drive already mounted at /content/drive; to attempt to forcibly remount, call drive.mount(\"/content/drive\", force_remount=True).\n"
          ]
        }
      ],
      "source": [
        "#Ambil data dari gdrive\n",
        "from google.colab import drive\n",
        "drive.mount('/content/drive')"
      ]
    },
    {
      "cell_type": "code",
      "execution_count": 2,
      "metadata": {
        "id": "I0XddJbQrfhN"
      },
      "outputs": [],
      "source": [
        "#membaca data\n",
        "import pandas as pd\n",
        "df = pd.read_csv('/content/drive/MyDrive/Colab Notebooks/dataset/Energy.csv')"
      ]
    },
    {
      "cell_type": "code",
      "execution_count": 3,
      "metadata": {
        "colab": {
          "base_uri": "https://localhost:8080/",
          "height": 206
        },
        "id": "t_jUGYjFrq7a",
        "outputId": "ed9d42c2-63eb-485e-e524-9bb5ec290fbb"
      },
      "outputs": [
        {
          "data": {
            "text/html": [
              "<div>\n",
              "<style scoped>\n",
              "    .dataframe tbody tr th:only-of-type {\n",
              "        vertical-align: middle;\n",
              "    }\n",
              "\n",
              "    .dataframe tbody tr th {\n",
              "        vertical-align: top;\n",
              "    }\n",
              "\n",
              "    .dataframe thead th {\n",
              "        text-align: right;\n",
              "    }\n",
              "</style>\n",
              "<table border=\"1\" class=\"dataframe\">\n",
              "  <thead>\n",
              "    <tr style=\"text-align: right;\">\n",
              "      <th></th>\n",
              "      <th>TYPE</th>\n",
              "      <th>DATE</th>\n",
              "      <th>START TIME</th>\n",
              "      <th>END TIME</th>\n",
              "      <th>USAGE</th>\n",
              "      <th>UNITS</th>\n",
              "      <th>COST</th>\n",
              "      <th>NOTES</th>\n",
              "    </tr>\n",
              "  </thead>\n",
              "  <tbody>\n",
              "    <tr>\n",
              "      <th>0</th>\n",
              "      <td>Electric usage</td>\n",
              "      <td>10/22/2016</td>\n",
              "      <td>0:00</td>\n",
              "      <td>0:14</td>\n",
              "      <td>0.01</td>\n",
              "      <td>kWh</td>\n",
              "      <td>$0.00</td>\n",
              "      <td>NaN</td>\n",
              "    </tr>\n",
              "    <tr>\n",
              "      <th>1</th>\n",
              "      <td>Electric usage</td>\n",
              "      <td>10/22/2016</td>\n",
              "      <td>0:15</td>\n",
              "      <td>0:29</td>\n",
              "      <td>0.01</td>\n",
              "      <td>kWh</td>\n",
              "      <td>$0.00</td>\n",
              "      <td>NaN</td>\n",
              "    </tr>\n",
              "    <tr>\n",
              "      <th>2</th>\n",
              "      <td>Electric usage</td>\n",
              "      <td>10/22/2016</td>\n",
              "      <td>0:30</td>\n",
              "      <td>0:44</td>\n",
              "      <td>0.01</td>\n",
              "      <td>kWh</td>\n",
              "      <td>$0.00</td>\n",
              "      <td>NaN</td>\n",
              "    </tr>\n",
              "    <tr>\n",
              "      <th>3</th>\n",
              "      <td>Electric usage</td>\n",
              "      <td>10/22/2016</td>\n",
              "      <td>0:45</td>\n",
              "      <td>0:59</td>\n",
              "      <td>0.01</td>\n",
              "      <td>kWh</td>\n",
              "      <td>$0.00</td>\n",
              "      <td>NaN</td>\n",
              "    </tr>\n",
              "    <tr>\n",
              "      <th>4</th>\n",
              "      <td>Electric usage</td>\n",
              "      <td>10/22/2016</td>\n",
              "      <td>1:00</td>\n",
              "      <td>1:14</td>\n",
              "      <td>0.01</td>\n",
              "      <td>kWh</td>\n",
              "      <td>$0.00</td>\n",
              "      <td>NaN</td>\n",
              "    </tr>\n",
              "  </tbody>\n",
              "</table>\n",
              "</div>"
            ],
            "text/plain": [
              "             TYPE        DATE START TIME END TIME  USAGE UNITS    COST  NOTES\n",
              "0  Electric usage  10/22/2016       0:00     0:14   0.01   kWh  $0.00     NaN\n",
              "1  Electric usage  10/22/2016       0:15     0:29   0.01   kWh  $0.00     NaN\n",
              "2  Electric usage  10/22/2016       0:30     0:44   0.01   kWh  $0.00     NaN\n",
              "3  Electric usage  10/22/2016       0:45     0:59   0.01   kWh  $0.00     NaN\n",
              "4  Electric usage  10/22/2016       1:00     1:14   0.01   kWh  $0.00     NaN"
            ]
          },
          "execution_count": 3,
          "metadata": {},
          "output_type": "execute_result"
        }
      ],
      "source": [
        "df.head()"
      ]
    },
    {
      "cell_type": "code",
      "execution_count": 4,
      "metadata": {
        "colab": {
          "base_uri": "https://localhost:8080/"
        },
        "id": "EgugSfITryWE",
        "outputId": "76b60048-2565-46d8-89cd-3d292e7a9276"
      },
      "outputs": [
        {
          "data": {
            "text/plain": [
              "(70368, 8)"
            ]
          },
          "execution_count": 4,
          "metadata": {},
          "output_type": "execute_result"
        }
      ],
      "source": [
        "df.shape"
      ]
    },
    {
      "cell_type": "code",
      "execution_count": 5,
      "metadata": {
        "colab": {
          "base_uri": "https://localhost:8080/"
        },
        "id": "tTN7jvZBr237",
        "outputId": "0ac24178-f9cb-430d-f909-5babb1f19efb"
      },
      "outputs": [
        {
          "data": {
            "text/plain": [
              "TYPE              0\n",
              "DATE              0\n",
              "START TIME        0\n",
              "END TIME          0\n",
              "USAGE             0\n",
              "UNITS             0\n",
              "COST              0\n",
              "NOTES         70368\n",
              "dtype: int64"
            ]
          },
          "execution_count": 5,
          "metadata": {},
          "output_type": "execute_result"
        }
      ],
      "source": [
        "df.isnull().sum()"
      ]
    },
    {
      "cell_type": "code",
      "execution_count": 6,
      "metadata": {
        "colab": {
          "base_uri": "https://localhost:8080/"
        },
        "id": "LiVaFG8ur6ah",
        "outputId": "c31c0593-01ad-4ae4-81f1-0ee2745edbb8"
      },
      "outputs": [
        {
          "data": {
            "text/plain": [
              "TYPE           object\n",
              "DATE           object\n",
              "START TIME     object\n",
              "END TIME       object\n",
              "USAGE         float64\n",
              "UNITS          object\n",
              "COST           object\n",
              "NOTES         float64\n",
              "dtype: object"
            ]
          },
          "execution_count": 6,
          "metadata": {},
          "output_type": "execute_result"
        }
      ],
      "source": [
        "df.dtypes"
      ]
    },
    {
      "cell_type": "code",
      "execution_count": 7,
      "metadata": {
        "id": "39HTcaJwr-XQ"
      },
      "outputs": [],
      "source": [
        "import numpy as np\n",
        "from keras.layers import Dense, LSTM\n",
        "import matplotlib.pyplot as plt\n",
        "import tensorflow as tf\n",
        "#Author : Sarah Salsabila (https://github.com/sarahsalsabila01)"
      ]
    },
    {
      "cell_type": "code",
      "execution_count": 8,
      "metadata": {
        "colab": {
          "base_uri": "https://localhost:8080/",
          "height": 206
        },
        "id": "h9vMRAvLsBxN",
        "outputId": "a29636f3-2c2c-497f-b698-a786cbf0082f"
      },
      "outputs": [
        {
          "data": {
            "text/html": [
              "<div>\n",
              "<style scoped>\n",
              "    .dataframe tbody tr th:only-of-type {\n",
              "        vertical-align: middle;\n",
              "    }\n",
              "\n",
              "    .dataframe tbody tr th {\n",
              "        vertical-align: top;\n",
              "    }\n",
              "\n",
              "    .dataframe thead th {\n",
              "        text-align: right;\n",
              "    }\n",
              "</style>\n",
              "<table border=\"1\" class=\"dataframe\">\n",
              "  <thead>\n",
              "    <tr style=\"text-align: right;\">\n",
              "      <th></th>\n",
              "      <th>TYPE</th>\n",
              "      <th>DATE</th>\n",
              "      <th>START TIME</th>\n",
              "      <th>END TIME</th>\n",
              "      <th>USAGE</th>\n",
              "      <th>UNITS</th>\n",
              "      <th>COST</th>\n",
              "      <th>NOTES</th>\n",
              "    </tr>\n",
              "  </thead>\n",
              "  <tbody>\n",
              "    <tr>\n",
              "      <th>0</th>\n",
              "      <td>Electric usage</td>\n",
              "      <td>2016-10-22</td>\n",
              "      <td>0:00</td>\n",
              "      <td>0:14</td>\n",
              "      <td>0.01</td>\n",
              "      <td>kWh</td>\n",
              "      <td>$0.00</td>\n",
              "      <td>NaN</td>\n",
              "    </tr>\n",
              "    <tr>\n",
              "      <th>1</th>\n",
              "      <td>Electric usage</td>\n",
              "      <td>2016-10-22</td>\n",
              "      <td>0:15</td>\n",
              "      <td>0:29</td>\n",
              "      <td>0.01</td>\n",
              "      <td>kWh</td>\n",
              "      <td>$0.00</td>\n",
              "      <td>NaN</td>\n",
              "    </tr>\n",
              "    <tr>\n",
              "      <th>2</th>\n",
              "      <td>Electric usage</td>\n",
              "      <td>2016-10-22</td>\n",
              "      <td>0:30</td>\n",
              "      <td>0:44</td>\n",
              "      <td>0.01</td>\n",
              "      <td>kWh</td>\n",
              "      <td>$0.00</td>\n",
              "      <td>NaN</td>\n",
              "    </tr>\n",
              "    <tr>\n",
              "      <th>3</th>\n",
              "      <td>Electric usage</td>\n",
              "      <td>2016-10-22</td>\n",
              "      <td>0:45</td>\n",
              "      <td>0:59</td>\n",
              "      <td>0.01</td>\n",
              "      <td>kWh</td>\n",
              "      <td>$0.00</td>\n",
              "      <td>NaN</td>\n",
              "    </tr>\n",
              "    <tr>\n",
              "      <th>4</th>\n",
              "      <td>Electric usage</td>\n",
              "      <td>2016-10-22</td>\n",
              "      <td>1:00</td>\n",
              "      <td>1:14</td>\n",
              "      <td>0.01</td>\n",
              "      <td>kWh</td>\n",
              "      <td>$0.00</td>\n",
              "      <td>NaN</td>\n",
              "    </tr>\n",
              "  </tbody>\n",
              "</table>\n",
              "</div>"
            ],
            "text/plain": [
              "             TYPE       DATE START TIME END TIME  USAGE UNITS    COST  NOTES\n",
              "0  Electric usage 2016-10-22       0:00     0:14   0.01   kWh  $0.00     NaN\n",
              "1  Electric usage 2016-10-22       0:15     0:29   0.01   kWh  $0.00     NaN\n",
              "2  Electric usage 2016-10-22       0:30     0:44   0.01   kWh  $0.00     NaN\n",
              "3  Electric usage 2016-10-22       0:45     0:59   0.01   kWh  $0.00     NaN\n",
              "4  Electric usage 2016-10-22       1:00     1:14   0.01   kWh  $0.00     NaN"
            ]
          },
          "execution_count": 8,
          "metadata": {},
          "output_type": "execute_result"
        }
      ],
      "source": [
        "#mengubah dtype menjadi date\n",
        "df['DATE'] = pd.to_datetime(df['DATE'])\n",
        "df.head()"
      ]
    },
    {
      "cell_type": "code",
      "execution_count": 9,
      "metadata": {
        "colab": {
          "base_uri": "https://localhost:8080/"
        },
        "id": "4qbc36C-sIw7",
        "outputId": "6eb6f2e0-f0d3-4a21-8fa4-3ef275850c20"
      },
      "outputs": [
        {
          "data": {
            "text/plain": [
              "Index(['TYPE', 'DATE', 'START TIME', 'END TIME', 'USAGE', 'UNITS', 'COST',\n",
              "       'NOTES'],\n",
              "      dtype='object')"
            ]
          },
          "execution_count": 9,
          "metadata": {},
          "output_type": "execute_result"
        }
      ],
      "source": [
        "df.columns"
      ]
    },
    {
      "cell_type": "code",
      "execution_count": 10,
      "metadata": {
        "colab": {
          "base_uri": "https://localhost:8080/",
          "height": 206
        },
        "id": "1GO9eBcOsMc5",
        "outputId": "b755f520-9000-458f-a0c0-6ba2fc828e66"
      },
      "outputs": [
        {
          "data": {
            "text/html": [
              "<div>\n",
              "<style scoped>\n",
              "    .dataframe tbody tr th:only-of-type {\n",
              "        vertical-align: middle;\n",
              "    }\n",
              "\n",
              "    .dataframe tbody tr th {\n",
              "        vertical-align: top;\n",
              "    }\n",
              "\n",
              "    .dataframe thead th {\n",
              "        text-align: right;\n",
              "    }\n",
              "</style>\n",
              "<table border=\"1\" class=\"dataframe\">\n",
              "  <thead>\n",
              "    <tr style=\"text-align: right;\">\n",
              "      <th></th>\n",
              "      <th>DATE</th>\n",
              "      <th>USAGE</th>\n",
              "    </tr>\n",
              "  </thead>\n",
              "  <tbody>\n",
              "    <tr>\n",
              "      <th>0</th>\n",
              "      <td>2016-10-22</td>\n",
              "      <td>0.01</td>\n",
              "    </tr>\n",
              "    <tr>\n",
              "      <th>1</th>\n",
              "      <td>2016-10-22</td>\n",
              "      <td>0.01</td>\n",
              "    </tr>\n",
              "    <tr>\n",
              "      <th>2</th>\n",
              "      <td>2016-10-22</td>\n",
              "      <td>0.01</td>\n",
              "    </tr>\n",
              "    <tr>\n",
              "      <th>3</th>\n",
              "      <td>2016-10-22</td>\n",
              "      <td>0.01</td>\n",
              "    </tr>\n",
              "    <tr>\n",
              "      <th>4</th>\n",
              "      <td>2016-10-22</td>\n",
              "      <td>0.01</td>\n",
              "    </tr>\n",
              "  </tbody>\n",
              "</table>\n",
              "</div>"
            ],
            "text/plain": [
              "        DATE  USAGE\n",
              "0 2016-10-22   0.01\n",
              "1 2016-10-22   0.01\n",
              "2 2016-10-22   0.01\n",
              "3 2016-10-22   0.01\n",
              "4 2016-10-22   0.01"
            ]
          },
          "execution_count": 10,
          "metadata": {},
          "output_type": "execute_result"
        }
      ],
      "source": [
        "#menghapus kolom\n",
        "df = df.drop(columns=['TYPE', 'START TIME', 'END TIME', 'UNITS', 'COST',\n",
        "       'NOTES'])\n",
        "df.head()"
      ]
    },
    {
      "cell_type": "code",
      "execution_count": 11,
      "metadata": {
        "colab": {
          "base_uri": "https://localhost:8080/",
          "height": 423
        },
        "id": "bjts5oeSsjKe",
        "outputId": "3bd9702e-847c-4349-b4e4-44bec5517da2"
      },
      "outputs": [
        {
          "data": {
            "text/html": [
              "<div>\n",
              "<style scoped>\n",
              "    .dataframe tbody tr th:only-of-type {\n",
              "        vertical-align: middle;\n",
              "    }\n",
              "\n",
              "    .dataframe tbody tr th {\n",
              "        vertical-align: top;\n",
              "    }\n",
              "\n",
              "    .dataframe thead th {\n",
              "        text-align: right;\n",
              "    }\n",
              "</style>\n",
              "<table border=\"1\" class=\"dataframe\">\n",
              "  <thead>\n",
              "    <tr style=\"text-align: right;\">\n",
              "      <th></th>\n",
              "      <th>DATE</th>\n",
              "      <th>USAGE</th>\n",
              "    </tr>\n",
              "  </thead>\n",
              "  <tbody>\n",
              "    <tr>\n",
              "      <th>0</th>\n",
              "      <td>2016-10-22</td>\n",
              "      <td>0.01</td>\n",
              "    </tr>\n",
              "    <tr>\n",
              "      <th>69</th>\n",
              "      <td>2016-10-22</td>\n",
              "      <td>0.02</td>\n",
              "    </tr>\n",
              "    <tr>\n",
              "      <th>68</th>\n",
              "      <td>2016-10-22</td>\n",
              "      <td>0.02</td>\n",
              "    </tr>\n",
              "    <tr>\n",
              "      <th>67</th>\n",
              "      <td>2016-10-22</td>\n",
              "      <td>0.02</td>\n",
              "    </tr>\n",
              "    <tr>\n",
              "      <th>66</th>\n",
              "      <td>2016-10-22</td>\n",
              "      <td>0.02</td>\n",
              "    </tr>\n",
              "    <tr>\n",
              "      <th>...</th>\n",
              "      <td>...</td>\n",
              "      <td>...</td>\n",
              "    </tr>\n",
              "    <tr>\n",
              "      <th>70298</th>\n",
              "      <td>2018-10-24</td>\n",
              "      <td>0.02</td>\n",
              "    </tr>\n",
              "    <tr>\n",
              "      <th>70297</th>\n",
              "      <td>2018-10-24</td>\n",
              "      <td>0.02</td>\n",
              "    </tr>\n",
              "    <tr>\n",
              "      <th>70296</th>\n",
              "      <td>2018-10-24</td>\n",
              "      <td>0.02</td>\n",
              "    </tr>\n",
              "    <tr>\n",
              "      <th>70318</th>\n",
              "      <td>2018-10-24</td>\n",
              "      <td>0.02</td>\n",
              "    </tr>\n",
              "    <tr>\n",
              "      <th>70367</th>\n",
              "      <td>2018-10-24</td>\n",
              "      <td>0.03</td>\n",
              "    </tr>\n",
              "  </tbody>\n",
              "</table>\n",
              "<p>70368 rows × 2 columns</p>\n",
              "</div>"
            ],
            "text/plain": [
              "            DATE  USAGE\n",
              "0     2016-10-22   0.01\n",
              "69    2016-10-22   0.02\n",
              "68    2016-10-22   0.02\n",
              "67    2016-10-22   0.02\n",
              "66    2016-10-22   0.02\n",
              "...          ...    ...\n",
              "70298 2018-10-24   0.02\n",
              "70297 2018-10-24   0.02\n",
              "70296 2018-10-24   0.02\n",
              "70318 2018-10-24   0.02\n",
              "70367 2018-10-24   0.03\n",
              "\n",
              "[70368 rows x 2 columns]"
            ]
          },
          "execution_count": 11,
          "metadata": {},
          "output_type": "execute_result"
        }
      ],
      "source": [
        "#mengatur agar diurutkan berdasarkan date , agar terurut\n",
        "df.sort_values(by='DATE')"
      ]
    },
    {
      "cell_type": "code",
      "execution_count": 12,
      "metadata": {
        "colab": {
          "base_uri": "https://localhost:8080/"
        },
        "id": "fgHArCAlstu4",
        "outputId": "52386820-7147-42f4-ce8c-4b486be3a8fd"
      },
      "outputs": [
        {
          "name": "stdout",
          "output_type": "stream",
          "text": [
            "Max Value :  2.36\n"
          ]
        }
      ],
      "source": [
        "#mencari nilai tertinggi dari data tegangan\n",
        "max = df['USAGE'].max()\n",
        "print('Max Value : ', max)"
      ]
    },
    {
      "cell_type": "code",
      "execution_count": 13,
      "metadata": {
        "colab": {
          "base_uri": "https://localhost:8080/"
        },
        "id": "5CmCnsMms0VS",
        "outputId": "bd64f8b2-0a8c-48ea-a8c3-4901c524518e"
      },
      "outputs": [
        {
          "name": "stdout",
          "output_type": "stream",
          "text": [
            "Min Value :  0.0\n"
          ]
        }
      ],
      "source": [
        "#mencari nilai terendah dari data tegangan\n",
        "min = df['USAGE'].min()\n",
        "print('Min Value : ', min)"
      ]
    },
    {
      "cell_type": "code",
      "execution_count": 14,
      "metadata": {
        "colab": {
          "base_uri": "https://localhost:8080/"
        },
        "id": "ChNy_WEXs57L",
        "outputId": "44e89b7e-3b49-44e0-c172-fdf1b4e963f9"
      },
      "outputs": [
        {
          "data": {
            "text/plain": [
              "0.236"
            ]
          },
          "execution_count": 14,
          "metadata": {},
          "output_type": "execute_result"
        }
      ],
      "source": [
        "#menghitung batas <10% maenya dari data\n",
        "batas_mae =(max - min)*(10/100)\n",
        "batas_mae"
      ]
    },
    {
      "cell_type": "code",
      "execution_count": 15,
      "metadata": {
        "colab": {
          "base_uri": "https://localhost:8080/"
        },
        "id": "6Gk7Da_-s9tc",
        "outputId": "61d15d21-3132-4e40-edf5-8c5ad98bf511"
      },
      "outputs": [
        {
          "data": {
            "text/plain": [
              "DATE     0\n",
              "USAGE    0\n",
              "dtype: int64"
            ]
          },
          "execution_count": 15,
          "metadata": {},
          "output_type": "execute_result"
        }
      ],
      "source": [
        "#mengecek apakah ada data null\n",
        "df.isnull().sum()"
      ]
    },
    {
      "cell_type": "code",
      "execution_count": 16,
      "metadata": {
        "colab": {
          "base_uri": "https://localhost:8080/",
          "height": 250
        },
        "id": "Ljtd9sF3s_hW",
        "outputId": "915936e4-181e-407c-c6d5-4628141d3d98"
      },
      "outputs": [
        {
          "data": {
            "image/png": "[encoded data removed]",
            "text/plain": [
              "<Figure size 1080x360 with 1 Axes>"
            ]
          },
          "metadata": {
            "needs_background": "light"
          },
          "output_type": "display_data"
        }
      ],
      "source": [
        "#membuat plot data berdasarkan date dan tegangan\n",
        "import matplotlib.pyplot as plt\n",
        "date  = df['DATE'].values\n",
        "power  = df['USAGE'].values\n",
        " \n",
        " \n",
        "plt.figure(figsize=(15,5))\n",
        "plt.plot(date,power)\n",
        "plt.title('power yang digunakan',\n",
        "          fontsize=20);\n",
        "#Author : Sarah Salsabila (https://github.com/sarahsalsabila01)"
      ]
    },
    {
      "cell_type": "code",
      "execution_count": 17,
      "metadata": {
        "colab": {
          "base_uri": "https://localhost:8080/"
        },
        "id": "sQDK4563tNwW",
        "outputId": "fc8bcca5-cffa-4453-9c38-07a6294f8676"
      },
      "outputs": [
        {
          "name": "stdout",
          "output_type": "stream",
          "text": [
            "56294 14074\n"
          ]
        }
      ],
      "source": [
        "#membagi validasi data 20%\n",
        "from sklearn.model_selection import train_test_split\n",
        "\n",
        "power_train, power_test, date_train, date_test = train_test_split(power, date, test_size = 0.2, random_state = 0 , shuffle=False)\n",
        "print(len(power_train), len(power_test))"
      ]
    },
    {
      "cell_type": "code",
      "execution_count": 18,
      "metadata": {
        "id": "FQpyxq6RtpIB"
      },
      "outputs": [],
      "source": [
        "def windowed_dataset(series, window_size, batch_size, shuffle_buffer):\n",
        "    series = tf.expand_dims(series, axis=-1)\n",
        "    ds = tf.data.Dataset.from_tensor_slices(series)\n",
        "    ds = ds.window(window_size + 1, shift=1, drop_remainder=True)\n",
        "    ds = ds.flat_map(lambda w: w.batch(window_size + 1))\n",
        "    ds = ds.shuffle(shuffle_buffer)\n",
        "    ds = ds.map(lambda w: (w[:-1], w[-1:]))\n",
        "    return ds.batch(batch_size).prefetch(1)"
      ]
    },
    {
      "cell_type": "code",
      "execution_count": 19,
      "metadata": {
        "id": "KYz7XFFMtqqn"
      },
      "outputs": [],
      "source": [
        "data_power_train = windowed_dataset(power_train, window_size=60, batch_size=100, shuffle_buffer=5000)\n",
        "data_power_test = windowed_dataset(power_test, window_size=60, batch_size=100, shuffle_buffer=5000)"
      ]
    },
    {
      "cell_type": "code",
      "execution_count": 20,
      "metadata": {
        "id": "FCL2QHSmt3AN"
      },
      "outputs": [],
      "source": [
        "model = tf.keras.models.Sequential([\n",
        "  tf.keras.layers.LSTM(60, return_sequences=True),\n",
        "  tf.keras.layers.LSTM(60),\n",
        "  tf.keras.layers.Dense(30, activation=\"relu\"),\n",
        "  tf.keras.layers.Dense(10, activation=\"relu\"),\n",
        "  tf.keras.layers.Dense(1),\n",
        "])"
      ]
    },
    {
      "cell_type": "code",
      "execution_count": 21,
      "metadata": {
        "id": "usFBMEPut6gH"
      },
      "outputs": [],
      "source": [
        "#membuat callback \n",
        "class myCallback(tf.keras.callbacks.Callback):\n",
        "  def on_epoch_end(self, epoch, logs={}):\n",
        "    if(logs.get('mae')is not None and logs.get('mae') <= batas_mae):\n",
        "      print(\"\\n Mae nya sudah dibawah \", batas_mae , \", training data dihentikan !\")\n",
        "      self.model.stop_training = True\n",
        "\n",
        "callbacks = myCallback()"
      ]
    },
    {
      "cell_type": "code",
      "execution_count": 22,
      "metadata": {
        "colab": {
          "base_uri": "https://localhost:8080/"
        },
        "id": "P5UgTsKdt9jE",
        "outputId": "3ddd96d9-fadf-47b4-f22e-3db5b15c538c"
      },
      "outputs": [
        {
          "name": "stderr",
          "output_type": "stream",
          "text": [
            "/usr/local/lib/python3.7/dist-packages/keras/optimizer_v2/optimizer_v2.py:356: UserWarning: The `lr` argument is deprecated, use `learning_rate` instead.\n",
            "  \"The `lr` argument is deprecated, use `learning_rate` instead.\")\n"
          ]
        }
      ],
      "source": [
        "#optimizer dan menggunakan learning rate\n",
        "optimizer = tf.keras.optimizers.SGD(lr=1.0000e-04, momentum=0.9)\n",
        "model.compile(loss=tf.keras.losses.Huber(),\n",
        "              optimizer=optimizer,\n",
        "              metrics=[\"mae\"])"
      ]
    },
    {
      "cell_type": "code",
      "execution_count": 23,
      "metadata": {
        "colab": {
          "base_uri": "https://localhost:8080/"
        },
        "id": "sI5r-s-Ht_zo",
        "outputId": "a3d0da6b-b8c6-4afe-8320-e3d5764861cd"
      },
      "outputs": [
        {
          "name": "stdout",
          "output_type": "stream",
          "text": [
            "Epoch 1/30\n",
            "563/563 [==============================] - 36s 46ms/step - loss: 0.0263 - mae: 0.1022 - val_loss: 0.0049 - val_mae: 0.0658\n",
            "Epoch 2/30\n",
            "563/563 [==============================] - 25s 42ms/step - loss: 0.0235 - mae: 0.1111 - val_loss: 0.0048 - val_mae: 0.0723\n",
            "Epoch 3/30\n",
            "563/563 [==============================] - 25s 43ms/step - loss: 0.0230 - mae: 0.1147 - val_loss: 0.0048 - val_mae: 0.0742\n",
            "Epoch 4/30\n",
            "563/563 [==============================] - 25s 42ms/step - loss: 0.0228 - mae: 0.1156 - val_loss: 0.0048 - val_mae: 0.0746\n",
            "Epoch 5/30\n",
            "563/563 [==============================] - 25s 43ms/step - loss: 0.0226 - mae: 0.1153 - val_loss: 0.0048 - val_mae: 0.0745\n",
            "Epoch 6/30\n",
            "563/563 [==============================] - 25s 43ms/step - loss: 0.0225 - mae: 0.1152 - val_loss: 0.0047 - val_mae: 0.0744\n",
            "Epoch 7/30\n",
            "563/563 [==============================] - 25s 43ms/step - loss: 0.0224 - mae: 0.1150 - val_loss: 0.0047 - val_mae: 0.0745\n",
            "Epoch 8/30\n",
            "563/563 [==============================] - 25s 43ms/step - loss: 0.0223 - mae: 0.1148 - val_loss: 0.0047 - val_mae: 0.0741\n",
            "Epoch 9/30\n",
            "563/563 [==============================] - 25s 43ms/step - loss: 0.0222 - mae: 0.1146 - val_loss: 0.0047 - val_mae: 0.0738\n",
            "Epoch 10/30\n",
            "563/563 [==============================] - 26s 44ms/step - loss: 0.0221 - mae: 0.1144 - val_loss: 0.0047 - val_mae: 0.0738\n",
            "Epoch 11/30\n",
            "563/563 [==============================] - 25s 43ms/step - loss: 0.0220 - mae: 0.1143 - val_loss: 0.0046 - val_mae: 0.0734\n",
            "Epoch 12/30\n",
            "563/563 [==============================] - 25s 43ms/step - loss: 0.0219 - mae: 0.1139 - val_loss: 0.0046 - val_mae: 0.0736\n",
            "Epoch 13/30\n",
            "563/563 [==============================] - 25s 42ms/step - loss: 0.0218 - mae: 0.1137 - val_loss: 0.0046 - val_mae: 0.0733\n",
            "Epoch 14/30\n",
            "563/563 [==============================] - 25s 42ms/step - loss: 0.0217 - mae: 0.1134 - val_loss: 0.0046 - val_mae: 0.0732\n",
            "Epoch 15/30\n",
            "563/563 [==============================] - 25s 42ms/step - loss: 0.0217 - mae: 0.1132 - val_loss: 0.0045 - val_mae: 0.0728\n",
            "Epoch 16/30\n",
            "563/563 [==============================] - 25s 42ms/step - loss: 0.0216 - mae: 0.1130 - val_loss: 0.0045 - val_mae: 0.0727\n",
            "Epoch 17/30\n",
            "563/563 [==============================] - 25s 42ms/step - loss: 0.0215 - mae: 0.1127 - val_loss: 0.0045 - val_mae: 0.0724\n",
            "Epoch 18/30\n",
            "563/563 [==============================] - 25s 43ms/step - loss: 0.0214 - mae: 0.1125 - val_loss: 0.0045 - val_mae: 0.0722\n",
            "Epoch 19/30\n",
            "563/563 [==============================] - 27s 45ms/step - loss: 0.0214 - mae: 0.1121 - val_loss: 0.0044 - val_mae: 0.0718\n",
            "Epoch 20/30\n",
            "563/563 [==============================] - 26s 44ms/step - loss: 0.0213 - mae: 0.1119 - val_loss: 0.0044 - val_mae: 0.0716\n",
            "Epoch 21/30\n",
            "563/563 [==============================] - 25s 43ms/step - loss: 0.0212 - mae: 0.1114 - val_loss: 0.0044 - val_mae: 0.0716\n",
            "Epoch 22/30\n",
            "563/563 [==============================] - 25s 43ms/step - loss: 0.0211 - mae: 0.1113 - val_loss: 0.0044 - val_mae: 0.0712\n",
            "Epoch 23/30\n",
            "563/563 [==============================] - 25s 42ms/step - loss: 0.0210 - mae: 0.1107 - val_loss: 0.0043 - val_mae: 0.0703\n",
            "Epoch 24/30\n",
            "563/563 [==============================] - 25s 43ms/step - loss: 0.0209 - mae: 0.1100 - val_loss: 0.0043 - val_mae: 0.0700\n",
            "Epoch 25/30\n",
            "563/563 [==============================] - 26s 44ms/step - loss: 0.0209 - mae: 0.1098 - val_loss: 0.0043 - val_mae: 0.0698\n",
            "Epoch 26/30\n",
            "563/563 [==============================] - 25s 42ms/step - loss: 0.0208 - mae: 0.1095 - val_loss: 0.0042 - val_mae: 0.0695\n",
            "Epoch 27/30\n",
            "563/563 [==============================] - 25s 43ms/step - loss: 0.0207 - mae: 0.1092 - val_loss: 0.0042 - val_mae: 0.0693\n",
            "Epoch 28/30\n",
            "563/563 [==============================] - 25s 43ms/step - loss: 0.0206 - mae: 0.1089 - val_loss: 0.0042 - val_mae: 0.0692\n",
            "Epoch 29/30\n",
            "563/563 [==============================] - 26s 44ms/step - loss: 0.0206 - mae: 0.1086 - val_loss: 0.0042 - val_mae: 0.0688\n",
            "Epoch 30/30\n",
            "563/563 [==============================] - 27s 46ms/step - loss: 0.0205 - mae: 0.1083 - val_loss: 0.0041 - val_mae: 0.0686\n"
          ]
        }
      ],
      "source": [
        "#melakukan model fit .\n",
        "#tidak menyertakan callback agar sesuai dengan review notes . harus mencapai nilai terbaik untuk pendekatan kekasus yang lebih baik\n",
        "history = model.fit(data_power_train,\n",
        "                    epochs=30,\n",
        "                    validation_data=data_power_test)\n",
        "#Author : Sarah Salsabila (https://github.com/sarahsalsabila01)"
      ]
    },
    {
      "cell_type": "code",
      "execution_count": 24,
      "metadata": {
        "colab": {
          "base_uri": "https://localhost:8080/",
          "height": 295
        },
        "id": "PX0donAi9Wdu",
        "outputId": "4f9312ae-da22-4a1e-d84a-37f14376cc1e"
      },
      "outputs": [
        {
          "data": {
            "image/png": "[encoded data removed]",
            "text/plain": [
              "<Figure size 432x288 with 1 Axes>"
            ]
          },
          "metadata": {
            "needs_background": "light"
          },
          "output_type": "display_data"
        }
      ],
      "source": [
        " # plot dari maenya\n",
        "import matplotlib.pyplot as plt\n",
        "plt.plot(history.history['mae'])\n",
        "plt.plot(history.history['val_mae'])\n",
        "plt.title('MAE')\n",
        "plt.ylabel('mae')\n",
        "plt.xlabel('epoch')\n",
        "plt.legend(['train', 'test'], loc='upper left')\n",
        "plt.show()"
      ]
    },
    {
      "cell_type": "code",
      "execution_count": 26,
      "metadata": {
        "colab": {
          "base_uri": "https://localhost:8080/",
          "height": 295
        },
        "id": "FnyImEMb-flE",
        "outputId": "73221261-8ae0-4a26-e633-4135f31f48a5"
      },
      "outputs": [
        {
          "data": {
            "image/png": "[encoded data removed]",
            "text/plain": [
              "<Figure size 432x288 with 1 Axes>"
            ]
          },
          "metadata": {
            "needs_background": "light"
          },
          "output_type": "display_data"
        }
      ],
      "source": [
        "# plot dari lossnya\n",
        "plt.plot(history.history['loss'])\n",
        "plt.plot(history.history['val_loss'])\n",
        "plt.title('Model Loss')\n",
        "plt.ylabel('loss')\n",
        "plt.xlabel('epoch')\n",
        "plt.legend(['train', 'test'], loc='upper left')\n",
        "plt.show()\n",
        "#Author : Sarah Salsabila (https://github.com/sarahsalsabila01)"
      ]
    }
  ],
  "metadata": {
    "accelerator": "GPU",
    "colab": {
      "collapsed_sections": [],
      "name": "TS_Sarah2.2.ipynb",
      "provenance": []
    },
    "kernelspec": {
      "display_name": "Python 3",
      "name": "python3"
    },
    "language_info": {
      "name": "python"
    }
  },
  "nbformat": 4,
  "nbformat_minor": 0
}
